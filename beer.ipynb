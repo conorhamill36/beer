{
 "cells": [
  {
   "cell_type": "code",
   "execution_count": null,
   "metadata": {
    "collapsed": true
   },
   "outputs": [],
   "source": [
    "#Project initially compiling information about beer habits from untappd API, with possibility of making recommendation system"
   ]
  },
  {
   "cell_type": "code",
   "execution_count": null,
   "metadata": {},
   "outputs": [],
   "source": [
    "%matplotlib inline\n",
    "import matplotlib.pyplot as plt\n",
    "import requests\n",
    "import http.client \n",
    "import json\n",
    "import pprint\n",
    "import pandas as pd\n",
    "# import geopandas as gdp\n",
    "import numpy as np\n",
    "from scipy import stats\n",
    "from scipy.stats import t\n",
    "from datetime import datetime\n",
    "import csv\n",
    "import matplotlib.pyplot as plt\n",
    "%matplotlib inline"
   ]
  },
  {
   "cell_type": "code",
   "execution_count": null,
   "metadata": {
    "collapsed": true
   },
   "outputs": [],
   "source": [
    "!pip3 install geopandas"
   ]
  },
  {
   "cell_type": "code",
   "execution_count": null,
   "metadata": {
    "collapsed": true
   },
   "outputs": [],
   "source": [
    "!conda install -c conda-forge gdal -y"
   ]
  },
  {
   "cell_type": "code",
   "execution_count": null,
   "metadata": {},
   "outputs": [],
   "source": [
    "import sys\n",
    "sys.executable"
   ]
  },
  {
   "cell_type": "code",
   "execution_count": null,
   "metadata": {},
   "outputs": [],
   "source": [
    "!pip3 install pyproj"
   ]
  },
  {
   "cell_type": "code",
   "execution_count": null,
   "metadata": {
    "collapsed": true
   },
   "outputs": [],
   "source": [
    "!pip3 install wheel\n",
    "\n",
    "!pip3 install numpy\n",
    "!pip3 install pandas\n",
    "!pip3 install shapely\n",
    "!pip3 install gdal\n",
    "!pip3 install fiona\n",
    "!pip3 install pyproj\n",
    "!pip3 install six\n",
    "!pip3 install rtree\n",
    "!pip3 install geopandas"
   ]
  },
  {
   "cell_type": "code",
   "execution_count": null,
   "metadata": {},
   "outputs": [],
   "source": [
    "f = open('client.txt')\n",
    "for line_counter, line in enumerate(f.readlines()):\n",
    "#     print(line)\n",
    "    if(line_counter == 0):\n",
    "        client_id = str(line).strip()\n",
    "    if(line_counter == 1):\n",
    "        client_secret = str(line).strip()\n",
    "print(client_id)       \n",
    "print(client_secret)\n",
    "f.close()\n"
   ]
  },
  {
   "cell_type": "code",
   "execution_count": null,
   "metadata": {},
   "outputs": [],
   "source": [
    "url = f\"https://api.untappd.com/v4/user/info/gregavola?client_id={client_id}&client_secret={client_secret}\"\n",
    "print(url)\n",
    "# https://api.untappd.com/v4/user/checkins/gregavola?client_id=6D2AAB5EC9DDD9F3EE8289B7D899F9AEA36E4BBB&client_secret=AA7B434A5516D89F95F1E950BCFA663245C32BBF"
   ]
  },
  {
   "cell_type": "code",
   "execution_count": null,
   "metadata": {
    "collapsed": true
   },
   "outputs": [],
   "source": [
    "print(\"hello\")"
   ]
  },
  {
   "cell_type": "code",
   "execution_count": null,
   "metadata": {
    "scrolled": false
   },
   "outputs": [],
   "source": [
    "response = requests.request(\"GET\", url)#, auth = (client_id, client_secret)) \n",
    "response_json = response.json()\n",
    "print(response.status_code)"
   ]
  },
  {
   "cell_type": "code",
   "execution_count": null,
   "metadata": {},
   "outputs": [],
   "source": [
    "pprint.pprint(response_json[\"response\"][\"user\"][\"checkins\"])"
   ]
  },
  {
   "cell_type": "code",
   "execution_count": null,
   "metadata": {
    "collapsed": true
   },
   "outputs": [],
   "source": [
    "def getUserInfo(username):\n",
    "    url = f\"https://api.untappd.com/v4/user/info/{username}?client_id={client_id}&client_secret={client_secret}\"\n",
    "    \n",
    "    response = requests.request(\"GET\", url) \n",
    "    if(response.status_code == 404):\n",
    "        print(\"Connection not made, returning nothing\")\n",
    "        return 0\n",
    "    if(response.status_code == 200):      \n",
    "        print(f\"Response code is {response.status_code}, all is well\")\n",
    "    response_json = response.json()\n",
    "    \n",
    "    return response_json\n",
    "    "
   ]
  },
  {
   "cell_type": "code",
   "execution_count": null,
   "metadata": {},
   "outputs": [],
   "source": [
    "getUserInfo(\"gregavola\")"
   ]
  },
  {
   "cell_type": "code",
   "execution_count": null,
   "metadata": {
    "collapsed": true
   },
   "outputs": [],
   "source": [
    "def getDistinctBeers(username):\n",
    "    url = f\"https://api.untappd.com/v4/user/beers/{username}?client_id={client_id}&client_secret={client_secret}\"\n",
    "    \n",
    "    response = requests.request(\"GET\", url) \n",
    "    if(response.status_code == 404):\n",
    "        print(\"Connection not made, returning nothing\")\n",
    "        return 0\n",
    "    if(response.status_code == 200):      \n",
    "        print(f\"Response code is {response.status_code}, all is well\")\n",
    "    response_json = response.json()\n",
    "    \n",
    "    return response_json\n",
    "    "
   ]
  },
  {
   "cell_type": "code",
   "execution_count": null,
   "metadata": {
    "collapsed": true
   },
   "outputs": [],
   "source": [
    "distinct_beers_json = getDistinctBeers(\"conorhamill36\")"
   ]
  },
  {
   "cell_type": "code",
   "execution_count": null,
   "metadata": {
    "collapsed": true
   },
   "outputs": [],
   "source": [
    "pprint.pprint(distinct_beers_json[\"response\"])"
   ]
  },
  {
   "cell_type": "code",
   "execution_count": null,
   "metadata": {
    "collapsed": true
   },
   "outputs": [],
   "source": [
    "# pprint.pprint(distinct_beers_json[\"response\"][\"beers\"][\"items\"])\n",
    "print(len(distinct_beers_json[\"response\"][\"beers\"][\"items\"]))"
   ]
  },
  {
   "cell_type": "code",
   "execution_count": null,
   "metadata": {
    "collapsed": true
   },
   "outputs": [],
   "source": [
    "# for beer in distinct_beers_json[\"response\"][\"beers\"][\"items\"]:\n",
    "# #     pprint.pprint(beer[\"beer\"])\n",
    "#     pprint.pprint(beer[\"beer\"][\"beer_abv\"])\n",
    "#     pprint.pprint(beer[\"beer\"][\"beer_ibu\"])\n",
    "#     pprint.pprint(beer[\"beer\"][\"beer_style\"])\n",
    "#     pprint.pprint(beer[\"beer\"][\"rating_score\"])\n",
    "next_url = distinct_beers_json[\"response\"][\"pagination\"][\"next_url\"]    "
   ]
  },
  {
   "cell_type": "code",
   "execution_count": null,
   "metadata": {
    "collapsed": true
   },
   "outputs": [],
   "source": [
    "#Returns dataframe of information on user's beers\n",
    "def getUsersDistinctBeers(username, pages = 1):\n",
    "    users_distinct_beer_data = []\n",
    "    users_distinct_beer_data_headings = []\n",
    "    \n",
    "    url = f\"https://api.untappd.com/v4/user/beers/{username}?limit=50&client_id={client_id}&client_secret={client_secret}\"\n",
    "\n",
    "    for page in range(0, pages):\n",
    "        print(page)\n",
    "        if(page > 0):\n",
    "            url = f\"https://api.untappd.com/v4/user/beers/{username}?limit=50&offset={int(page*50)}&client_id={client_id}&client_secret={client_secret}\"\n",
    "        print(f\"url is {url}\") \n",
    "        response = requests.request(\"GET\", url) \n",
    "        \n",
    "        if(response.status_code == 404):\n",
    "            print(\"Connection not made, returning nothing\")\n",
    "            return 0\n",
    "        if(response.status_code == 200):      \n",
    "            print(f\"Response code is {response.status_code}, all is well\")\n",
    "        distinct_beers_json = response.json()\n",
    "        \n",
    "\n",
    "        #return response_json\n",
    "        for beer in distinct_beers_json[\"response\"][\"beers\"][\"items\"]:\n",
    "#             pprint.pprint(beer[\"beer\"])\n",
    "            beer_abv = beer[\"beer\"][\"beer_abv\"]\n",
    "            beer_ibu = beer[\"beer\"][\"beer_ibu\"]\n",
    "            beer_style = beer[\"beer\"][\"beer_style\"]\n",
    "            rating_score = beer[\"beer\"][\"rating_score\"]\n",
    "            user_rating_score = beer[\"rating_score\"]\n",
    "            brewery_id = beer[\"brewery\"][\"brewery_id\"]\n",
    "            brewery_name = beer[\"brewery\"][\"brewery_name\"]\n",
    "            country_name = beer[\"brewery\"][\"country_name\"]\n",
    "            brewery_lat = beer[\"brewery\"][\"location\"][\"lat\"]\n",
    "            brewery_lng = beer[\"brewery\"][\"location\"][\"lng\"]\n",
    "                        \n",
    "            print(beer_abv, beer_ibu, beer_style, rating_score)\n",
    "            users_distinct_beer_data.append([beer_abv, beer_ibu, beer_style, rating_score, user_rating_score, brewery_id, brewery_name, country_name, brewery_lat, brewery_lng])\n",
    "    users_distinct_beer_data_headings = ['beer_abv', 'beer_ibu', 'beer_style', 'rating_score', \"user_rating_score\", \"brewery_id\", \"brewery_name\", \"country_name\", \"brewery_lat\", \"brewery_lng\"]\n",
    "    \n",
    "    return users_distinct_beer_data, users_distinct_beer_data_headings"
   ]
  },
  {
   "cell_type": "code",
   "execution_count": null,
   "metadata": {
    "collapsed": true
   },
   "outputs": [],
   "source": [
    "users_distinct_beer_data, users_distinct_beer_data_headings = getUsersDistinctBeers(\"conorhamill36\", pages = 5)"
   ]
  },
  {
   "cell_type": "code",
   "execution_count": null,
   "metadata": {
    "collapsed": true,
    "scrolled": true
   },
   "outputs": [],
   "source": [
    "# print(users_distinct_beer_data_headings)\n",
    "beer_df = pd.DataFrame(users_distinct_beer_data, columns = users_distinct_beer_data_headings)\n",
    "beer_df"
   ]
  },
  {
   "cell_type": "code",
   "execution_count": null,
   "metadata": {
    "collapsed": true
   },
   "outputs": [],
   "source": [
    "beer_df.plot.scatter(x = 'beer_abv', y = 'beer_ibu', legend = 'beer_style')"
   ]
  },
  {
   "cell_type": "code",
   "execution_count": null,
   "metadata": {
    "collapsed": true
   },
   "outputs": [],
   "source": [
    "#Need to call matplotlib for each group\n",
    "plt.scatter(x = beer_df['beer_abv'], y = beer_df['beer_ibu'], legend = beer_df['beer_style'])"
   ]
  },
  {
   "cell_type": "code",
   "execution_count": null,
   "metadata": {
    "collapsed": true
   },
   "outputs": [],
   "source": [
    "beer_df.plot.scatter(x = 'rating_score', y = 'user_rating_score')"
   ]
  },
  {
   "cell_type": "code",
   "execution_count": null,
   "metadata": {
    "collapsed": true
   },
   "outputs": [],
   "source": [
    "beer_df.describe()"
   ]
  },
  {
   "cell_type": "code",
   "execution_count": null,
   "metadata": {
    "collapsed": true
   },
   "outputs": [],
   "source": [
    "beer_df['country_name'].value_counts()"
   ]
  },
  {
   "cell_type": "code",
   "execution_count": null,
   "metadata": {
    "collapsed": true
   },
   "outputs": [],
   "source": [
    "#Display brewery locations with geopandas\n",
    "world = gpd.read_file(geopandas.datasets.get_path('naturalearth_lowres'))\n"
   ]
  },
  {
   "cell_type": "code",
   "execution_count": null,
   "metadata": {
    "collapsed": true
   },
   "outputs": [],
   "source": []
  },
  {
   "cell_type": "code",
   "execution_count": null,
   "metadata": {
    "collapsed": true
   },
   "outputs": [],
   "source": [
    "#Group together beer types"
   ]
  },
  {
   "cell_type": "code",
   "execution_count": null,
   "metadata": {
    "collapsed": true
   },
   "outputs": [],
   "source": []
  }
 ],
 "metadata": {
  "kernelspec": {
   "display_name": "Python 3",
   "language": "python",
   "name": "python3"
  },
  "language_info": {
   "codemirror_mode": {
    "name": "ipython",
    "version": 3
   },
   "file_extension": ".py",
   "mimetype": "text/x-python",
   "name": "python",
   "nbconvert_exporter": "python",
   "pygments_lexer": "ipython3",
   "version": "3.6.1"
  }
 },
 "nbformat": 4,
 "nbformat_minor": 2
}
